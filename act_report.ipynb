{
 "cells": [
  {
   "cell_type": "markdown",
   "metadata": {},
   "source": [
    "## Report: act_report\n",
    "* Create a **250-word-minimum written report** called \"act_report.pdf\" or \"act_report.html\" that communicates the insights and displays the visualization(s) produced from your wrangled data. This is to be framed as an external document, like a blog post or magazine article, for example."
   ]
  },
  {
   "cell_type": "markdown",
   "metadata": {},
   "source": [
    "### Here we'll discuss the other steps after wrangling data which are:\n",
    "\n",
    "**Analysis**: by using **.describe()** to get some statistical information about each data resource like: **mean, mode, min value, max value, ...etc** to help us get useful insights\n",
    "\n",
    "**Producing Insights**: the insights of the data resources are:\n",
    "\n",
    "1. In `twitter_archive_copy` dataframe, the ratings of tweets have very wide range in both `rating_numerator` and `rating_denominator` columns, which means that there are posts with very low ratings and others with very high ratings <br><br>\n",
    "\n",
    "2. In `img_df_copy` dataframe, prediction mean is decreasing while ,oving from `p1_conf` to `p3_conf` which means that the model confidence is higher at first prediction <br><br>\n",
    "\n",
    "3. In `tweet_df_copy` dataframe, `favorite_counts` mwan is greater than `retweet_count` mean, which mean that users engage highly with likes and emotions <br><br>\n",
    "\n",
    "**Visualization**: By importing **matplotlip** library which helps us in visualization and we made one visualization for **Ratings** in `twitter_archive_copy` dataframe \n",
    "\n",
    "\n",
    "#### Now, we've documented all project steps in brief, thanks!"
   ]
  }
 ],
 "metadata": {
  "kernelspec": {
   "display_name": "Python 3",
   "language": "python",
   "name": "python3"
  },
  "language_info": {
   "codemirror_mode": {
    "name": "ipython",
    "version": 3
   },
   "file_extension": ".py",
   "mimetype": "text/x-python",
   "name": "python",
   "nbconvert_exporter": "python",
   "pygments_lexer": "ipython3",
   "version": "3.6.3"
  }
 },
 "nbformat": 4,
 "nbformat_minor": 2
}
